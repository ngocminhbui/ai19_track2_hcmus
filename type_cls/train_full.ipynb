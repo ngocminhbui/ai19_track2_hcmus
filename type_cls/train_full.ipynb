{
 "cells": [
  {
   "cell_type": "code",
   "execution_count": 1,
   "metadata": {},
   "outputs": [],
   "source": [
    "import torch\n",
    "import torch.nn as nn\n",
    "import torch.optim as optim\n",
    "from torch.optim import lr_scheduler\n",
    "import numpy as np\n",
    "import torchvision\n",
    "from torchvision import datasets, models, transforms\n",
    "from torch.utils.data import DataLoader\n",
    "#import matplotlib.pyplot as plt\n",
    "import time\n",
    "import os\n",
    "import copy\n",
    "from torchvision.datasets import ImageFolder\n",
    "from torch.utils.data.sampler import SubsetRandomSampler\n",
    "from train_snippets import train_model\n"
   ]
  },
  {
   "cell_type": "code",
   "execution_count": 2,
   "metadata": {},
   "outputs": [],
   "source": [
    "import logging\n",
    "logging.basicConfig(filename='train.log', level=logging.INFO, filemode='w', format='%(asctime)s %(levelname)-8s %(message)s',\n",
    "                              datefmt='%Y-%m-%d %H:%M:%S')"
   ]
  },
  {
   "cell_type": "code",
   "execution_count": 3,
   "metadata": {},
   "outputs": [],
   "source": [
    "data_transforms = {\n",
    "    'train': transforms.Compose([\n",
    "        transforms.RandomResizedCrop(224),\n",
    "        transforms.RandomHorizontalFlip(),\n",
    "        transforms.ToTensor(),\n",
    "        transforms.Normalize([0.485, 0.456, 0.406], [0.229, 0.224, 0.225])\n",
    "    ]),\n",
    "    'val': transforms.Compose([\n",
    "        transforms.Resize(256),\n",
    "        transforms.CenterCrop(224),\n",
    "        transforms.ToTensor(),\n",
    "        transforms.Normalize([0.485, 0.456, 0.406], [0.229, 0.224, 0.225])\n",
    "    ]),\n",
    "}"
   ]
  },
  {
   "cell_type": "code",
   "execution_count": 4,
   "metadata": {},
   "outputs": [],
   "source": [
    "train_dataset = ImageFolder('../../datasets/type_dataset/train_vehicle_types/') \n",
    "val_dataset = ImageFolder('../../datasets/type_dataset/test_vehicle_types/') \n",
    "train_dataset.transform = data_transforms['train']\n",
    "val_dataset.transform = data_transforms['val']\n",
    "\n",
    "dataloaders = {}\n",
    "dataloaders['train'] = DataLoader(train_dataset, batch_size=64, shuffle=True, num_workers=8)\n",
    "dataloaders['val'] = DataLoader(val_dataset, batch_size=64, shuffle=False, num_workers=8)"
   ]
  },
  {
   "cell_type": "code",
   "execution_count": null,
   "metadata": {},
   "outputs": [],
   "source": [
    "logging.info(dataloaders['train'].dataset)\n",
    "logging.info('*'*20)\n",
    "logging.info(dataloaders['val'].dataset)\n",
    "logging.info('logged')"
   ]
  },
  {
   "cell_type": "code",
   "execution_count": null,
   "metadata": {},
   "outputs": [],
   "source": []
  },
  {
   "cell_type": "code",
   "execution_count": null,
   "metadata": {},
   "outputs": [],
   "source": [
    "model_ft = models.resnet50(pretrained=True)\n",
    "for param in model_ft.parameters():\n",
    "    param.requires_grad = False\n",
    "\n",
    "num_ftrs = model_ft.fc.in_features\n",
    "model_ft.fc = nn.Linear(num_ftrs, 5)\n",
    "\n",
    "device = torch.device(\"cuda:0\" if torch.cuda.is_available() else \"cpu\")\n",
    "model_ft = model_ft.to(device)\n",
    "\n",
    "criterion = nn.CrossEntropyLoss()\n",
    "\n",
    "# Observe that all parameters are being optimized\n",
    "optimizer_ft = optim.Adam(model_ft.parameters())\n",
    "\n",
    "# Decay LR by a factor of 0.1 every 10 epochs\n",
    "exp_lr_scheduler = lr_scheduler.StepLR(optimizer_ft, step_size=10, gamma=0.1)"
   ]
  },
  {
   "cell_type": "code",
   "execution_count": null,
   "metadata": {},
   "outputs": [
    {
     "name": "stdout",
     "output_type": "stream",
     "text": [
      "Epoch 0/49\n",
      "----------\n",
      "train Loss: 0.8155 Acc: 0.6377\n",
      "val Loss: 0.8004 Acc: 0.6596\n",
      "saving checkpoint as best model\n",
      "\n",
      "Epoch 1/49\n",
      "----------\n",
      "train Loss: 0.7335 Acc: 0.6699\n",
      "val Loss: 0.7443 Acc: 0.6871\n",
      "saving checkpoint as best model\n",
      "\n",
      "Epoch 2/49\n",
      "----------\n",
      "train Loss: 0.7156 Acc: 0.6814\n",
      "val Loss: 0.7817 Acc: 0.6571\n",
      "\n",
      "Epoch 3/49\n",
      "----------\n",
      "train Loss: 0.7125 Acc: 0.6826\n",
      "val Loss: 0.7411 Acc: 0.6809\n",
      "\n",
      "Epoch 4/49\n",
      "----------\n",
      "train Loss: 0.6909 Acc: 0.6922\n",
      "val Loss: 0.7298 Acc: 0.7021\n",
      "saving checkpoint as best model\n",
      "\n",
      "Epoch 5/49\n",
      "----------\n",
      "train Loss: 0.6841 Acc: 0.6960\n",
      "val Loss: 0.7074 Acc: 0.7046\n",
      "saving checkpoint as best model\n",
      "\n",
      "Epoch 6/49\n",
      "----------\n",
      "train Loss: 0.6735 Acc: 0.7017\n",
      "val Loss: 0.7348 Acc: 0.7034\n",
      "\n",
      "Epoch 7/49\n",
      "----------\n",
      "train Loss: 0.6716 Acc: 0.7025\n",
      "val Loss: 0.7532 Acc: 0.6846\n",
      "\n",
      "Epoch 8/49\n",
      "----------\n"
     ]
    }
   ],
   "source": [
    "model_ft = train_model(model_ft, criterion, optimizer_ft, exp_lr_scheduler,dataloaders=dataloaders,\n",
    "                       num_epochs=50, device=device)"
   ]
  },
  {
   "cell_type": "code",
   "execution_count": null,
   "metadata": {},
   "outputs": [],
   "source": [
    "model_ft"
   ]
  },
  {
   "cell_type": "markdown",
   "metadata": {},
   "source": [
    "# Test"
   ]
  },
  {
   "cell_type": "code",
   "execution_count": null,
   "metadata": {},
   "outputs": [],
   "source": []
  },
  {
   "cell_type": "code",
   "execution_count": 56,
   "metadata": {},
   "outputs": [],
   "source": [
    "model = model_ft\n",
    "model.eval()   # Set model to evaluate mode\n",
    "running_loss = 0.0\n",
    "running_corrects = 0\n",
    "dataset_sizes = {x: len(dataloaders[x].dataset) for x in ['train', 'val']}\n",
    "predicts = []\n",
    "for inputs, labels in dataloaders['val']:\n",
    "    inputs = inputs.to(device)\n",
    "    labels = labels.to(device)\n",
    "\n",
    "    \n",
    "    # forward\n",
    "    # track history if only in train\n",
    "    with torch.set_grad_enabled(False):\n",
    "        outputs = model(inputs)\n",
    "        _, preds = torch.max(outputs, 1)\n",
    "        loss = criterion(outputs, labels)\n",
    "        predicts.append(preds)\n",
    "    # statistics\n",
    "    running_loss += loss.item() * inputs.size(0)\n",
    "    running_corrects += torch.sum(preds == labels.data)\n",
    "\n",
    "epoch_loss = running_loss / dataset_sizes['val']\n",
    "epoch_acc = running_corrects.double() / dataset_sizes['val']"
   ]
  },
  {
   "cell_type": "code",
   "execution_count": 57,
   "metadata": {},
   "outputs": [
    {
     "name": "stdout",
     "output_type": "stream",
     "text": [
      "val loss: 0.7062019428636911 , val acc: tensor(0.7247, device='cuda:0', dtype=torch.float64)\n"
     ]
    }
   ],
   "source": [
    "print('val loss:', epoch_loss,', val acc:', epoch_acc)"
   ]
  },
  {
   "cell_type": "code",
   "execution_count": null,
   "metadata": {},
   "outputs": [],
   "source": []
  },
  {
   "cell_type": "code",
   "execution_count": 58,
   "metadata": {},
   "outputs": [],
   "source": [
    "predicts = torch.cat(predicts).cpu().numpy()"
   ]
  },
  {
   "cell_type": "code",
   "execution_count": 59,
   "metadata": {},
   "outputs": [],
   "source": [
    "labels = []\n",
    "for (x,y) in dataloaders['val']:\n",
    "    labels.append(y)\n",
    "labels = torch.cat(labels).cpu().numpy()"
   ]
  },
  {
   "cell_type": "code",
   "execution_count": 97,
   "metadata": {},
   "outputs": [],
   "source": [
    "classes = np.array(['sedan','pick-up','bus','truck','others'])"
   ]
  },
  {
   "cell_type": "code",
   "execution_count": 98,
   "metadata": {},
   "outputs": [
    {
     "name": "stdout",
     "output_type": "stream",
     "text": [
      "Confusion matrix, without normalization\n",
      "[[169   1   0   0  76]\n",
      " [ 10  69   0   1  36]\n",
      " [  0   0   8   0   2]\n",
      " [  0  10   0   4   9]\n",
      " [ 51  23   1   0 329]]\n",
      "Normalized confusion matrix\n",
      "[[0.69 0.   0.   0.   0.31]\n",
      " [0.09 0.59 0.   0.01 0.31]\n",
      " [0.   0.   0.8  0.   0.2 ]\n",
      " [0.   0.43 0.   0.17 0.39]\n",
      " [0.13 0.06 0.   0.   0.81]]\n"
     ]
    },
    {
     "data": {
      "image/png": "[encoded data removed]",
      "text/plain": [
       "<Figure size 432x288 with 2 Axes>"
      ]
     },
     "metadata": {
      "needs_background": "light"
     },
     "output_type": "display_data"
    },
    {
     "data": {
      "image/png": "[encoded data removed]",
      "text/plain": [
       "<Figure size 432x288 with 2 Axes>"
      ]
     },
     "metadata": {
      "needs_background": "light"
     },
     "output_type": "display_data"
    }
   ],
   "source": [
    "from plot_cfs import plot_confusion_matrix\n",
    "np.set_printoptions(precision=2)\n",
    "\n",
    "# Plot non-normalized confusion matrix\n",
    "plot_confusion_matrix(labels, predicts, classes,\n",
    "                      title='Confusion matrix, without normalization')\n",
    "\n",
    "# Plot normalized confusion matrix\n",
    "plot_confusion_matrix(labels, predicts, classes, normalize=True,\n",
    "                      title='Normalized confusion matrix')\n",
    "\n",
    "plt.show()"
   ]
  },
  {
   "cell_type": "code",
   "execution_count": null,
   "metadata": {},
   "outputs": [],
   "source": [
    "from visualize_images import imshow"
   ]
  },
  {
   "cell_type": "code",
   "execution_count": null,
   "metadata": {},
   "outputs": [],
   "source": []
  }
 ],
 "metadata": {
  "kernelspec": {
   "display_name": "Python 3",
   "language": "python",
   "name": "python3"
  },
  "language_info": {
   "codemirror_mode": {
    "name": "ipython",
    "version": 3
   },
   "file_extension": ".py",
   "mimetype": "text/x-python",
   "name": "python",
   "nbconvert_exporter": "python",
   "pygments_lexer": "ipython3",
   "version": "3.6.8"
  }
 },
 "nbformat": 4,
 "nbformat_minor": 2
}
