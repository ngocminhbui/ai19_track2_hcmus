{
 "cells": [
  {
   "cell_type": "code",
   "execution_count": 1,
   "metadata": {},
   "outputs": [],
   "source": [
    "%load_ext autoreload\n",
    "%autoreload 2\n",
    "%matplotlib inline\n",
    "import sys\n",
    "import os\n",
    "import os.path as osp\n",
    "import cv2\n",
    "from vehicle_reid.embedder import Embedder\n",
    "from vehicle_reid.evaluate import Evaluator\n",
    "from vehicle_reid import exp_config\n",
    "from vehicle_reid.common import *\n",
    "from sift_match.sift_match import *\n",
    "from matplotlib import pyplot as plt\n",
    "from classifier import classifier_common as clscom\n",
    "import tensorflow as tf\n",
    "import numpy as np\n",
    "import h5py\n",
    "GPU_ID = \"1\"\n",
    "from vehicle_reid.re_ranking import re_ranking as advance_re_ranking\n",
    "from track2_evaluation.eval import compute_mAP"
   ]
  },
  {
   "cell_type": "code",
   "execution_count": 2,
   "metadata": {},
   "outputs": [],
   "source": [
    "#Load distance files:\n",
    "test_full_ids, test_full_paths, test_full_track = read_csv_dataset(TESTFULL['csv_in'])\n",
    "_, query_paths, __ = read_csv_dataset(QUERY['csv_in'])\n",
    "\n",
    "test_bus_train = load_h5(\"results_dists/testfulltrainbus798x5.h5\")\n",
    "\n",
    "query_to_test_track = load_h5(\"results_dists/img_quetest_1052x18290.h5\")\n",
    "test_full_test_full = load_h5(\"results_dists/img_testtest_18290x18290.h5\")\n",
    "query_query = load_h5(\"results_dists/queryquery1052x1052.h5\")"
   ]
  },
  {
   "cell_type": "code",
   "execution_count": 3,
   "metadata": {},
   "outputs": [],
   "source": [
    "def select_top(inp_arr, selected):\n",
    "    for i in np.argsort(inp_arr):\n",
    "        if (i not in selected):\n",
    "            selected.append(i)\n",
    "            return selected, i\n",
    "def select_NN(top1_view, tracklet_dists, k = 4):\n",
    "    selected = [top1_view]\n",
    "    a = top1_view\n",
    "    for i in range(k):\n",
    "        selected, b = select_top(tracklet_dists[a], selected)\n",
    "        a = b\n",
    "    return selected \n",
    "def re_ranking(top_list, scores_test):\n",
    "    for i, track_id in enumerate(top_list):\n",
    "        scores_test[track_id] = 1.0 - i * 0.05\n",
    "    return scores_test"
   ]
  },
  {
   "cell_type": "code",
   "execution_count": 4,
   "metadata": {},
   "outputs": [],
   "source": [
    "#BUS RERANKING\n",
    "query_bus, test_bus = read_bus_query_test()\n",
    "tmp = exec_query_bus(test_bus_train,\n",
    "               query_to_test_track,\n",
    "               test_bus,query_bus)\n",
    "bus_selected = {}\n",
    "for i, query_id in enumerate(query_bus):\n",
    "    bus_selected[query_id] = tmp[i]"
   ]
  },
  {
   "cell_type": "code",
   "execution_count": 18,
   "metadata": {},
   "outputs": [
    {
     "name": "stdout",
     "output_type": "stream",
     "text": [
      "(1052, 18290)\n",
      "(1052, 1052)\n",
      "(18290, 18290)\n"
     ]
    }
   ],
   "source": [
    "print(query_to_test_track.shape)\n",
    "print(query_query.shape)\n",
    "print(test_full_test_full.shape)"
   ]
  },
  {
   "cell_type": "code",
   "execution_count": 5,
   "metadata": {},
   "outputs": [],
   "source": [
    "tmp = advance_re_ranking(\n",
    "    query_to_test_track,\n",
    "    query_query,\n",
    "    test_full_test_full,\n",
    "    k1=50,\n",
    "    k2=100,\n",
    "    lambda_value=.5)"
   ]
  },
  {
   "cell_type": "code",
   "execution_count": 9,
   "metadata": {},
   "outputs": [
    {
     "name": "stdout",
     "output_type": "stream",
     "text": [
      "[[26.94984  29.275618 25.972261 ... 25.25887  26.792643 30.789297]\n",
      " [37.312157 40.328632 37.03171  ... 39.557983 35.419235 29.78647 ]\n",
      " [28.243708 26.583248 27.195284 ... 18.520428 31.508535 30.911194]\n",
      " ...\n",
      " [29.223278 31.405657 23.798979 ... 23.956118 30.090523 30.293911]\n",
      " [32.103672 26.378838 28.403996 ... 34.27507  30.133093 37.058228]\n",
      " [28.167511 12.376411 25.023684 ... 34.196644 28.543545 38.62953 ]]\n"
     ]
    }
   ],
   "source": [
    "tmp = query_to_test_track.copy()\n",
    "print(tmp)"
   ]
  },
  {
   "cell_type": "code",
   "execution_count": 12,
   "metadata": {},
   "outputs": [],
   "source": [
    "scores_track = 1 / tmp\n",
    "final_scores = []\n",
    "final_img_ids = []\n",
    "top = 500\n",
    "selected_tracklets = []\n",
    "for i, img_query in enumerate(query_paths):\n",
    "    if (i in query_bus):\n",
    "        #If BUS then apply bus re-id:\n",
    "        scores_track[i] = re_ranking(bus_selected[i], scores_track[i])\n",
    "        selected_tracklets.append(bus_selected[i])\n",
    "#     else:\n",
    "# #         Apply nearest neighbor:\n",
    "#         selected = select_NN(np.argmax(scores_track[i]),test_full_test_full)\n",
    "#         scores_track[i] = re_ranking(selected, scores_track[i])\n",
    "#         selected_tracklets.append(selected)\n",
    "    #Select top 100 imgs:\n",
    "#     scores_test = scores_track[i][test_full_track]\n",
    "    top100 = np.argsort(scores_track[i])[::-1][:top]\n",
    "    top100_scores = scores_track[i][top100]\n",
    "    final_scores.append(top100_scores)\n",
    "    final_img_ids.append(top100)\n",
    "final_scores = np.array(final_scores)\n",
    "final_img_ids = np.array(final_img_ids)"
   ]
  },
  {
   "cell_type": "code",
   "execution_count": 20,
   "metadata": {},
   "outputs": [
    {
     "name": "stdout",
     "output_type": "stream",
     "text": [
      "(1052, 18290)\n"
     ]
    }
   ],
   "source": [
    "print(scores_track.shape)"
   ]
  },
  {
   "cell_type": "code",
   "execution_count": 50,
   "metadata": {},
   "outputs": [
    {
     "data": {
      "text/plain": [
       "(500,)"
      ]
     },
     "execution_count": 50,
     "metadata": {},
     "output_type": "execute_result"
    }
   ],
   "source": [
    "np.sort(final_scores[0])[::-1][:top].shape"
   ]
  },
  {
   "cell_type": "code",
   "execution_count": 13,
   "metadata": {},
   "outputs": [
    {
     "data": {
      "text/plain": [
       "0.5414180468260018"
      ]
     },
     "execution_count": 13,
     "metadata": {},
     "output_type": "execute_result"
    }
   ],
   "source": [
    "# SAVE SUBMISSION FILE\n",
    "with open(\"img_track2.txt\", \"w\") as fo:\n",
    "    for i, img_query in enumerate(query_paths):\n",
    "        for j in final_img_ids[i][:100]:\n",
    "            img_id = int(j)+1\n",
    "            fo.write(\"{} \".format(img_id))\n",
    "        fo.write(\"\\n\")\n",
    "# #EVALUATE\n",
    "compute_mAP()"
   ]
  },
  {
   "cell_type": "code",
   "execution_count": 19,
   "metadata": {},
   "outputs": [],
   "source": [
    "#SAVE RESULTS TO API\n",
    "result_folder = \"/home/hthieu/AICityChallenge2019/test_tracklet_re_ranking_results_img_base\"\n",
    "gal_root = \"image_test\"\n",
    "que_root = \"image_query\"\n",
    "gallery_fids = test_full_paths\n",
    "gallery_trklet = test_full_track\n",
    "\n",
    "if not osp.exists(result_folder):\n",
    "    os.makedirs(result_folder)\n",
    "def save_result_for_query(query_name, gallery_imgs, gallery_scores, gallery_tracklets):\n",
    "    gallery_imgs = [os.path.join(gal_root, x) for x in gallery_imgs]\n",
    "    with open(os.path.join(result_folder, query_name.replace('.jpg','.txt')), \"w\") as fo:\n",
    "            for i in range(top):\n",
    "                fo.write(\"{:s},{:5f},{},{}\\n\".format(gallery_imgs[i],\n",
    "                                                     gallery_scores[i],\n",
    "                                                     True,\n",
    "                                                     gallery_tracklets[i]))\n",
    "#Save each query image seperately  \n",
    "for i, img_query in enumerate(query_paths):\n",
    "    save_result_for_query(img_query,\n",
    "                         test_full_paths[final_img_ids[i]].tolist(),\n",
    "                         final_scores[i],\n",
    "                         test_full_track[final_img_ids[i]].tolist())\n",
    "#Save index\n",
    "with open(os.path.join(result_folder,\"index.csv\"), \"w\") as fo:\n",
    "        for img_query in query_paths:\n",
    "            query_img_path = os.path.join(que_root, img_query)\n",
    "            fo.write(\"{},{:.5f}\\n\".format(query_img_path,1.0))"
   ]
  },
  {
   "cell_type": "code",
   "execution_count": null,
   "metadata": {},
   "outputs": [],
   "source": [
    "with open(\"track2_tracklet.txt\", \"w\") as fo:\n",
    "    for query_trk in selected_tracklets:\n",
    "        query_trk = [str(x) for x in query_trk]\n",
    "        fo.write(','.join(query_trk)+\"\\n\")"
   ]
  },
  {
   "cell_type": "code",
   "execution_count": null,
   "metadata": {},
   "outputs": [],
   "source": []
  }
 ],
 "metadata": {
  "kernelspec": {
   "display_name": "Python 3",
   "language": "python",
   "name": "python3"
  },
  "language_info": {
   "codemirror_mode": {
    "name": "ipython",
    "version": 3
   },
   "file_extension": ".py",
   "mimetype": "text/x-python",
   "name": "python",
   "nbconvert_exporter": "python",
   "pygments_lexer": "ipython3",
   "version": "3.5.2"
  }
 },
 "nbformat": 4,
 "nbformat_minor": 2
}
