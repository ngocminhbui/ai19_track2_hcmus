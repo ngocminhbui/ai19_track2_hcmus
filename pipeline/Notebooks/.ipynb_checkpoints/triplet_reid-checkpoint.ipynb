{
 "cells": [
  {
   "cell_type": "code",
   "execution_count": 12,
   "metadata": {},
   "outputs": [
    {
     "name": "stdout",
     "output_type": "stream",
     "text": [
      "18291\n"
     ]
    }
   ],
   "source": []
  },
  {
   "cell_type": "code",
   "execution_count": 13,
   "metadata": {},
   "outputs": [
    {
     "name": "stdout",
     "output_type": "stream",
     "text": [
      "1053\n"
     ]
    }
   ],
   "source": []
  },
  {
   "cell_type": "code",
   "execution_count": 24,
   "metadata": {},
   "outputs": [
    {
     "name": "stdout",
     "output_type": "stream",
     "text": [
      "Loading args from /home/hthieu/AICityChallenge2019/experiments/args.json.\n",
      "WARNING: crop augmentation differs between training and evaluation.\n",
      "Evaluating using the following parameters:\n",
      "aggregator: None\n",
      "batch_k: 4\n",
      "batch_p: 18\n",
      "batch_size: 256\n",
      "checkpoint: None\n",
      "checkpoint_frequency: 1000\n",
      "crop_augment: None\n",
      "dataset: data/track2_validate_query.csv\n",
      "decay_start_iteration: 15000\n",
      "detailed_logs: False\n",
      "embedding_dim: 128\n",
      "experiment_root: /home/hthieu/AICityChallenge2019/experiments/\n",
      "filename: /home/hthieu/AICityChallenge2019/experiments/track2_query_embedding.h5\n",
      "flip_augment: False\n",
      "head_name: fc1024\n",
      "image_root: /home/hthieu/AICityChallenge2019/data/Track2Data/image_train/\n",
      "initial_checkpoint: None\n",
      "learning_rate: 0.0001\n",
      "loading_threads: 8\n",
      "loss: batch_hard\n",
      "margin: soft\n",
      "metric: euclidean\n",
      "model_name: resnet_v1_50\n",
      "net_input_height: 128\n",
      "net_input_width: 256\n",
      "pre_crop_height: 144\n",
      "pre_crop_width: 288\n",
      "quiet: False\n",
      "resume: False\n",
      "train_iterations: 25000\n",
      "train_set: /home/hthieu/AICityChallenge2019/triplet-reid/data/track2_train_small.csv\n",
      "WARNING:tensorflow:From /home/hthieu/AICityChallenge2019/triplet-reid/nets/resnet_v1.py:219: calling reduce_mean (from tensorflow.python.ops.math_ops) with keep_dims is deprecated and will be removed in a future version.\n",
      "Instructions for updating:\n",
      "keep_dims is deprecated, use keepdims instead\n",
      "2019-02-20 14:40:40.455904: I tensorflow/core/platform/cpu_feature_guard.cc:141] Your CPU supports instructions that this TensorFlow binary was not compiled to use: AVX2 FMA\n",
      "2019-02-20 14:40:40.544386: I tensorflow/stream_executor/cuda/cuda_gpu_executor.cc:964] successful NUMA node read from SysFS had negative value (-1), but there must be at least one NUMA node, so returning NUMA node zero\n",
      "2019-02-20 14:40:40.544788: I tensorflow/core/common_runtime/gpu/gpu_device.cc:1432] Found device 0 with properties: \n",
      "name: GeForce GTX 1080 Ti major: 6 minor: 1 memoryClockRate(GHz): 1.6575\n",
      "pciBusID: 0000:02:00.0\n",
      "totalMemory: 10.91GiB freeMemory: 8.04GiB\n",
      "2019-02-20 14:40:40.544801: I tensorflow/core/common_runtime/gpu/gpu_device.cc:1511] Adding visible gpu devices: 0\n",
      "2019-02-20 14:40:40.738231: I tensorflow/core/common_runtime/gpu/gpu_device.cc:982] Device interconnect StreamExecutor with strength 1 edge matrix:\n",
      "2019-02-20 14:40:40.738263: I tensorflow/core/common_runtime/gpu/gpu_device.cc:988]      0 \n",
      "2019-02-20 14:40:40.738271: I tensorflow/core/common_runtime/gpu/gpu_device.cc:1001] 0:   N \n",
      "2019-02-20 14:40:40.738430: I tensorflow/core/common_runtime/gpu/gpu_device.cc:1115] Created TensorFlow device (/job:localhost/replica:0/task:0/device:GPU:0 with 7761 MB memory) -> physical GPU (device: 0, name: GeForce GTX 1080 Ti, pci bus id: 0000:02:00.0, compute capability: 6.1)\n",
      "Restoring from checkpoint: /home/hthieu/AICityChallenge2019/experiments/checkpoint-25000\n",
      "Embedded batch 256-500/500\n",
      "Done with embedding, aggregating augmentations...\n"
     ]
    }
   ],
   "source": [
    "!python3 embed.py \\\n",
    "    --experiment_root /home/hthieu/AICityChallenge2019/track2_experiments/200218_triplet-reid_pre-trained_resnet50_small_training_set \\\n",
    "    --dataset data/track2_validate_query.csv\\\n",
    "    --filename track2_query_embedding.h5\\\n",
    "    --image_root /home/hthieu/AICityChallenge2019/data/Track2Data/image_train/"
   ]
  },
  {
   "cell_type": "code",
   "execution_count": null,
   "metadata": {},
   "outputs": [],
   "source": []
  },
  {
   "cell_type": "code",
   "execution_count": 25,
   "metadata": {},
   "outputs": [
    {
     "name": "stdout",
     "output_type": "stream",
     "text": [
      "Loading args from /home/hthieu/AICityChallenge2019/experiments/args.json.\n",
      "WARNING: crop augmentation differs between training and evaluation.\n",
      "Evaluating using the following parameters:\n",
      "aggregator: None\n",
      "batch_k: 4\n",
      "batch_p: 18\n",
      "batch_size: 256\n",
      "checkpoint: None\n",
      "checkpoint_frequency: 1000\n",
      "crop_augment: None\n",
      "dataset: data/track2_validate.csv\n",
      "decay_start_iteration: 15000\n",
      "detailed_logs: False\n",
      "embedding_dim: 128\n",
      "experiment_root: /home/hthieu/AICityChallenge2019/experiments/\n",
      "filename: /home/hthieu/AICityChallenge2019/experiments/track2_test_embedding.h5\n",
      "flip_augment: False\n",
      "head_name: fc1024\n",
      "image_root: /home/hthieu/AICityChallenge2019/data/Track2Data/image_train/\n",
      "initial_checkpoint: None\n",
      "learning_rate: 0.0001\n",
      "loading_threads: 8\n",
      "loss: batch_hard\n",
      "margin: soft\n",
      "metric: euclidean\n",
      "model_name: resnet_v1_50\n",
      "net_input_height: 128\n",
      "net_input_width: 256\n",
      "pre_crop_height: 144\n",
      "pre_crop_width: 288\n",
      "quiet: False\n",
      "resume: False\n",
      "train_iterations: 25000\n",
      "train_set: /home/hthieu/AICityChallenge2019/triplet-reid/data/track2_train_small.csv\n",
      "WARNING:tensorflow:From /home/hthieu/AICityChallenge2019/triplet-reid/nets/resnet_v1.py:219: calling reduce_mean (from tensorflow.python.ops.math_ops) with keep_dims is deprecated and will be removed in a future version.\n",
      "Instructions for updating:\n",
      "keep_dims is deprecated, use keepdims instead\n",
      "2019-02-20 14:40:55.891786: I tensorflow/core/platform/cpu_feature_guard.cc:141] Your CPU supports instructions that this TensorFlow binary was not compiled to use: AVX2 FMA\n",
      "2019-02-20 14:40:55.983050: I tensorflow/stream_executor/cuda/cuda_gpu_executor.cc:964] successful NUMA node read from SysFS had negative value (-1), but there must be at least one NUMA node, so returning NUMA node zero\n",
      "2019-02-20 14:40:55.983475: I tensorflow/core/common_runtime/gpu/gpu_device.cc:1432] Found device 0 with properties: \n",
      "name: GeForce GTX 1080 Ti major: 6 minor: 1 memoryClockRate(GHz): 1.6575\n",
      "pciBusID: 0000:02:00.0\n",
      "totalMemory: 10.91GiB freeMemory: 8.04GiB\n",
      "2019-02-20 14:40:55.983491: I tensorflow/core/common_runtime/gpu/gpu_device.cc:1511] Adding visible gpu devices: 0\n",
      "2019-02-20 14:40:56.176028: I tensorflow/core/common_runtime/gpu/gpu_device.cc:982] Device interconnect StreamExecutor with strength 1 edge matrix:\n",
      "2019-02-20 14:40:56.176056: I tensorflow/core/common_runtime/gpu/gpu_device.cc:988]      0 \n",
      "2019-02-20 14:40:56.176061: I tensorflow/core/common_runtime/gpu/gpu_device.cc:1001] 0:   N \n",
      "2019-02-20 14:40:56.176223: I tensorflow/core/common_runtime/gpu/gpu_device.cc:1115] Created TensorFlow device (/job:localhost/replica:0/task:0/device:GPU:0 with 7761 MB memory) -> physical GPU (device: 0, name: GeForce GTX 1080 Ti, pci bus id: 0000:02:00.0, compute capability: 6.1)\n",
      "Restoring from checkpoint: /home/hthieu/AICityChallenge2019/experiments/checkpoint-25000\n",
      "Embedded batch 9472-9655/9655\n",
      "Done with embedding, aggregating augmentations...\n"
     ]
    }
   ],
   "source": [
    "!python3 embed.py \\\n",
    "    --experiment_root /home/hthieu/AICityChallenge2019/experiments/ \\\n",
    "    --dataset data/track2_validate.csv\\\n",
    "    --filename track2_test_embedding.h5\\\n",
    "    --image_root /home/hthieu/AICityChallenge2019/data/Track2Data/image_train/"
   ]
  },
  {
   "cell_type": "markdown",
   "metadata": {},
   "source": []
  }
 ],
 "metadata": {
  "kernelspec": {
   "display_name": "Python 3",
   "language": "python",
   "name": "python3"
  },
  "language_info": {
   "codemirror_mode": {
    "name": "ipython",
    "version": 2
   },
   "file_extension": ".py",
   "mimetype": "text/x-python",
   "name": "python",
   "nbconvert_exporter": "python",
   "pygments_lexer": "ipython2",
   "version": "2.7.12"
  }
 },
 "nbformat": 4,
 "nbformat_minor": 2
}
