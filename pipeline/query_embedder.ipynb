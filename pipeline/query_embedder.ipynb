{
 "cells": [
  {
   "cell_type": "code",
   "execution_count": 1,
   "metadata": {},
   "outputs": [],
   "source": [
    "%load_ext autoreload\n",
    "%autoreload 2\n",
    "import sys\n",
    "import os\n",
    "import os.path as osp\n",
    "import cv2\n",
    "from vehicle_reid.embedder import Embedder\n",
    "from vehicle_reid.evaluate import Evaluator\n",
    "from vehicle_reid import exp_config\n",
    "from vehicle_reid.common import *\n",
    "from matplotlib import pyplot as plt\n",
    "import tensorflow as tf\n",
    "import numpy as np\n",
    "import h5py\n",
    "EXP_ROOT = \"/home/hthieu/AICityChallenge2019/track2_experiments/\"\n",
    "GPU_ID = \"0\"\n",
    "query_cfg = QUERY\n",
    "test_full_cfg = TESTFULL\n",
    "train_full_cfg = TRAINFULL"
   ]
  },
  {
   "cell_type": "code",
   "execution_count": 6,
   "metadata": {},
   "outputs": [
    {
     "name": "stdout",
     "output_type": "stream",
     "text": [
      "Loading args from /home/hthieu/AICityChallenge2019/track2_experiments/100519_triplet-reid_wheel/args.json.\n",
      "False False\n",
      "INFO:tensorflow:Scale of 0 disables regularizer.\n",
      "WARNING:tensorflow:From /home/hthieu/AICityChallenge2019/triplet-reid/nets/resnet_v1.py:219: calling reduce_mean (from tensorflow.python.ops.math_ops) with keep_dims is deprecated and will be removed in a future version.\n",
      "Instructions for updating:\n",
      "keep_dims is deprecated, use keepdims instead\n",
      "Save h5 file to:  query_ext/wheel_query.h5\n",
      "Restoring from checkpoint: /home/hthieu/AICityChallenge2019/track2_experiments/100519_triplet-reid_wheel/checkpoint-18080\n",
      "INFO:tensorflow:Restoring parameters from /home/hthieu/AICityChallenge2019/track2_experiments/100519_triplet-reid_wheel/checkpoint-18080\n",
      "Embedded batch 896-983/983\n",
      "Done with embedding, aggregating augmentations...\n",
      "(983, 512)\n",
      "(983, 512)\n",
      "False False\n",
      "INFO:tensorflow:Scale of 0 disables regularizer.\n",
      "Save h5 file to:  query_ext/wheel_test.h5\n",
      "Restoring from checkpoint: /home/hthieu/AICityChallenge2019/track2_experiments/100519_triplet-reid_wheel/checkpoint-18080\n",
      "INFO:tensorflow:Restoring parameters from /home/hthieu/AICityChallenge2019/track2_experiments/100519_triplet-reid_wheel/checkpoint-18080\n",
      "Embedded batch 13056-13168/13168\n",
      "Done with embedding, aggregating augmentations...\n",
      "(13168, 512)\n",
      "(13168, 512)\n"
     ]
    }
   ],
   "source": [
    "#EMBED WHEEL\n",
    "embedder = Embedder(exp_config.WheelEmbedder.EXP_ID,GPU_ID)\n",
    "embedder.embed_csv_file(QUERY_WHEEL['root'], QUERY_WHEEL['csv_in'], QUERY_WHEEL[\"out_h5\"])\n",
    "embedder.embed_csv_file(TEST_WHEEL['root'], TEST_WHEEL['csv_in'], TEST_WHEEL[\"out_h5\"])"
   ]
  },
  {
   "cell_type": "code",
   "execution_count": null,
   "metadata": {},
   "outputs": [],
   "source": [
    "embedder = Embedder(exp_config.Track2Embedder.EXP_ID,GPU_ID)\n",
    "embedder.embed_csv_file(TRAIN_BUS['root'], TRAIN_BUS['csv_in'], TRAIN_BUS[\"out_h5\"], flip = True, crop = 'five')"
   ]
  },
  {
   "cell_type": "code",
   "execution_count": null,
   "metadata": {},
   "outputs": [],
   "source": [
    "#EMBED QUERY\n",
    "embedder = Embedder(exp_config.Track2Embedder.EXP_ID,GPU_ID)\n",
    "embedder.embed_csv_file(query_cfg['root'], query_cfg['csv_in'], query_cfg[\"out_h5\"])"
   ]
  },
  {
   "cell_type": "code",
   "execution_count": null,
   "metadata": {},
   "outputs": [],
   "source": [
    "#EMBED TEST\n",
    "embedder = Embedder(exp_config.Track2Embedder.EXP_ID,GPU_ID)\n",
    "embedder.embed_csv_file(test_full_cfg['root'], test_full_cfg['csv_in'], test_full_cfg[\"out_h5\"])"
   ]
  },
  {
   "cell_type": "code",
   "execution_count": null,
   "metadata": {},
   "outputs": [],
   "source": [
    "#EMBED TRAIN\n",
    "embedder = Embedder(exp_config.Track2Embedder.EXP_ID,GPU_ID)\n",
    "embedder.embed_csv_file(\"/home/hthieu/AICityChallenge2019/data/\", train_full_cfg['csv_in'], train_full_cfg[\"out_h5\"])"
   ]
  },
  {
   "cell_type": "code",
   "execution_count": null,
   "metadata": {},
   "outputs": [],
   "source": [
    "#READ EMB BUS RESULTS\n",
    "train_emb, train_id, train_track = load_emb_h5(train_cfg['out_h5'])\n",
    "test_emb, test_id, test_track = load_emb_h5(test_cfg['out_h5'])\n",
    "test_full_emb, test_full_id, test_full_track = load_emb_h5(test_full_cfg['out_h5'])\n",
    "train_full_emb, train_full_id, train_full_track = load_emb_h5(train_full_cfg['out_h5'])\n",
    "query_emb, _, __ = load_emb_h5(query_cfg['out_h5'])"
   ]
  },
  {
   "cell_type": "code",
   "execution_count": null,
   "metadata": {},
   "outputs": [],
   "source": [
    "train_ids, train_paths, train_track = read_csv_dataset(train_cfg['csv_in'])\n",
    "test_ids, test_paths, test_track = read_csv_dataset(test_cfg['csv_in'])\n",
    "_, query_paths, __ = read_csv_dataset(query_cfg['csv_in'])\n",
    "test_full_ids, test_full_paths, test_full_track = read_csv_dataset(test_full_cfg['csv_in'])\n",
    "\n",
    "train_uni, truid = np.unique(train_track, return_index=True)\n",
    "test_uni,teuid = np.unique(test_track,  return_index=True)\n",
    "test_full_uni, tefuid = np.unique(test_full_track,  return_index=True)\n",
    "dict_train3imgs = get3avt(\"train\")\n",
    "dict_test3imgs = get3avt(\"test\")\n",
    "train3 = np.array([np.argwhere(np.array(train_paths) == np.array(dict_train3imgs[x])[:,None])[:,1] for x in train_uni])\n",
    "\n",
    "test3  = np.array([np.argwhere(np.array(test_paths) == np.array(dict_test3imgs[x])[:,None])[:,1] for x in test_uni])\n",
    "\n",
    "train_paths = np.array([osp.join(train_cfg['root'], x) for x in train_paths])\n",
    "test_paths = np.array( [osp.join(test_cfg['root'], x) for x in test_paths])\n",
    "query_paths = np.array( [osp.join(query_cfg['root'], x) for x in query_paths])\n",
    "test_full_paths = np.array( [osp.join(test_full_cfg['root'], x) for x in test_full_paths])\n",
    "train_uni_id = train_ids[np.array(truid)]"
   ]
  },
  {
   "cell_type": "code",
   "execution_count": null,
   "metadata": {},
   "outputs": [],
   "source": [
    "#USE 3 AVT\n",
    "dict_train3imgs = get3avt(\"train\")\n",
    "dict_test3imgs = get3avt(\"test\")\n",
    "train3 = np.array([np.argwhere(np.array(train_paths) == np.array(dict_train3imgs[x])[:,None])[:,1] for x in train_uni])\n",
    "test3  = np.array([np.argwhere(np.array(test_paths) == np.array(dict_test3imgs[x])[:,None])[:,1] for x in test_uni])\n",
    "train_track_emb = np.average(train_emb[train3],axis = 1)\n",
    "test_track_emb = np.average(test_emb[test3],axis = 1)"
   ]
  },
  {
   "cell_type": "code",
   "execution_count": null,
   "metadata": {},
   "outputs": [],
   "source": [
    "#USE ALL\n",
    "train_track_emb = np.array([np.average(train_emb[train_track == x], axis = 0) for x in train_uni])\n",
    "test_track_emb = np.array([np.average(test_emb[test_track == x], axis = 0) for x in test_uni])\n",
    "test_full_track_emb = np.array([np.average(test_full_emb[test_full_track == x], axis = 0) for x in test_full_uni])"
   ]
  },
  {
   "cell_type": "code",
   "execution_count": null,
   "metadata": {},
   "outputs": [],
   "source": []
  },
  {
   "cell_type": "code",
   "execution_count": null,
   "metadata": {},
   "outputs": [],
   "source": [
    "train_track_paths = np.array([train_paths[train_track == x][0] for x in train_uni])\n",
    "test_track_paths = np.array([test_paths[test_track == x][0] for x in test_uni])\n",
    "test_full_track_paths = np.array([test_full_paths[test_full_track == x][0] for x in test_full_uni])"
   ]
  },
  {
   "cell_type": "code",
   "execution_count": null,
   "metadata": {},
   "outputs": [],
   "source": [
    "evaluator = Evaluator(EXP_DIR, GPU_ID)\n",
    "traintrain = evaluator.calculate_distances(train_track_emb,train_track_emb)\n",
    "testtest = evaluator.calculate_distances(test_track_emb,test_track_emb)\n",
    "testtrain = evaluator.calculate_distances(test_track_emb,train_track_emb)\n",
    "traintest = evaluator.calculate_distances(train_track_emb,test_track_emb)\n",
    "querytest = evaluator.calculate_distances(query_emb, test_track_emb)\n",
    "querytrain = evaluator.calculate_distances(query_emb, train_track_emb)\n",
    "querytestfull = evaluator.calculate_distances(query_emb, test_full_track_emb)\n",
    "traintestfull = evaluator.calculate_distances( train_track_emb, test_full_track_emb)"
   ]
  },
  {
   "cell_type": "code",
   "execution_count": null,
   "metadata": {},
   "outputs": [],
   "source": [
    "t = np.argsort(traintestfull,axis = 1)[6,:8]\n",
    "vis_img_group(test_full_track_paths[t])"
   ]
  },
  {
   "cell_type": "code",
   "execution_count": null,
   "metadata": {},
   "outputs": [],
   "source": [
    "print(np.unique(train_uni_id))\n",
    "print(traintestfull.shape)\n",
    "ID = 18\n",
    "selected_list = np.unique(np.argsort(traintestfull, axis = 1)[:,:12])\n",
    "print(selected_list)\n",
    "# vis_img_group(test_full_track_paths[selected_list])\n",
    "GT = np.array([592,8,648,762,109,727,508,761,768,758,71,483,185,630,260,96,269,79,256,546,259,425,683,166,771,217,658,759,86,283])\n",
    "correct_list = np.intersect1d(GT,selected_list)\n",
    "correct = len(correct_list)\n",
    "incorrect = len(selected_list) - correct\n",
    "print('Correct', correct, '/', len(GT),' incorrect', incorrect)\n",
    "# vis_img(train_track_paths[ID])\n",
    "# vis_img_group(test_full_track_paths[np.argsort(traintestfull[ID,:])],5,5)\n",
    "incorrect_list = np.logical_not(np.isin(GT,selected_list))\n",
    "vis_img_group(test_full_track_paths[GT[incorrect_list]],5,5)"
   ]
  },
  {
   "cell_type": "code",
   "execution_count": null,
   "metadata": {},
   "outputs": [],
   "source": [
    "tid = 18\n",
    "print(test_uni)\n",
    "print(test_uni[tid])\n",
    "vis_img(test_track_paths[tid])\n",
    "# vis_img_group(test_track_paths[np.argsort(testtest[tid,:])],4,5)"
   ]
  },
  {
   "cell_type": "code",
   "execution_count": null,
   "metadata": {},
   "outputs": [],
   "source": [
    "queryId = 1040\n",
    "print(query_paths[queryId])\n",
    "vis_img(query_paths[queryId])\n",
    "vis_img_group(test_track_paths[np.argsort(querytest[queryId,:])],4,5)\n",
    "# vis_img_group(test_full_track_paths[np.argsort(querytestfull[queryId,:])],4,5)\n",
    "# vis_img_group(train_track_paths[np.argsort(querytrain[queryId,:])],4,5)"
   ]
  },
  {
   "cell_type": "code",
   "execution_count": null,
   "metadata": {},
   "outputs": [],
   "source": [
    "print(test_uni)\n",
    "TRACKID = 8\n",
    "TOPTEST = np.argsort(testtest[TRACKID,:])\n",
    "TOPTRAIN = np.argsort(testtrain[TRACKID,:])\n",
    "vis_img(test_track_paths[TRACKID])\n",
    "print(test_uni[TRACKID],\"->\", test_uni[TOPTEST])\n",
    "vis_img_group(test_track_paths[TOPTEST], 5,4)"
   ]
  },
  {
   "cell_type": "code",
   "execution_count": null,
   "metadata": {},
   "outputs": [],
   "source": [
    "vis_img_group(train_track_paths[TOPTRAIN], 5,4)"
   ]
  },
  {
   "cell_type": "code",
   "execution_count": null,
   "metadata": {},
   "outputs": [],
   "source": [
    "# vis_img_group(train_track_paths[TOPTRAIN], 5,4)\n",
    "top_train = TOPTRAIN[0]\n",
    "x = train_uni[top_train]\n",
    "a = train_id == np.unique(train_id[train_track == x])\n",
    "train_multi_views = np.unique(train_track[a])\n",
    "ext = np.argwhere(train_multi_views[1] == train_uni)\n",
    "ext = np.squeeze(ext)\n",
    "vis_img(train_track_paths[ext])\n",
    "print(traintest.shape)\n",
    "test_sec_top = np.argsort(traintest[ext,:])\n",
    "print(test_uni[test_sec_top])\n",
    "vis_img_group(test_track_paths[test_sec_top], 5,4)"
   ]
  },
  {
   "cell_type": "code",
   "execution_count": null,
   "metadata": {},
   "outputs": [],
   "source": [
    "track_emb = np.array([np.average(img_emb[imgs_tracklet == x], axis = 0) for x in track_uni])\n",
    "track_dist = evaluator.calculate_distances(track_emb,track_emb)\n",
    "\n",
    "# track_bus_type = np.array([np.argmax(np.sum(scores[imgs_tracklet == x], axis = 0)) for x in track_uni])"
   ]
  },
  {
   "cell_type": "code",
   "execution_count": null,
   "metadata": {},
   "outputs": [],
   "source": []
  },
  {
   "cell_type": "code",
   "execution_count": null,
   "metadata": {},
   "outputs": [],
   "source": [
    "PICID = 90\n",
    "vis_img(img_paths[PICID])\n",
    "print(imgs_tracklet[PICID])\n",
    "score_sorted = np.argsort(dist[PICID,:])\n",
    "print(imgs_tracklet[score_sorted])\n",
    "vis_img_group(img_paths[score_sorted[:20]],4,5)"
   ]
  },
  {
   "cell_type": "code",
   "execution_count": null,
   "metadata": {},
   "outputs": [],
   "source": [
    "TRACK = 797\n",
    "vis_img(img_paths[TRACK])\n",
    "top20 = img_paths[np.argsort(dist[TRACK,:])[:30]]\n",
    "print(np.argsort(dist[TRACK,:])[:30])\n",
    "# print(view_dist[np.argsort(dist[TRACK,:])[:30]])\n",
    "# print(view_cls[TRACK])\n",
    "vis_img_group(top20,4,5)"
   ]
  },
  {
   "cell_type": "code",
   "execution_count": null,
   "metadata": {},
   "outputs": [],
   "source": [
    "evaluator = Evaluator(EXP_DIR, GPU_ID)\n",
    "querytrainfull = evalusator.calculate_distances(query_emb,train_full_emb)"
   ]
  }
 ],
 "metadata": {
  "kernelspec": {
   "display_name": "Python 3",
   "language": "python",
   "name": "python3"
  },
  "language_info": {
   "codemirror_mode": {
    "name": "ipython",
    "version": 3
   },
   "file_extension": ".py",
   "mimetype": "text/x-python",
   "name": "python",
   "nbconvert_exporter": "python",
   "pygments_lexer": "ipython3",
   "version": "3.5.2"
  }
 },
 "nbformat": 4,
 "nbformat_minor": 2
}
