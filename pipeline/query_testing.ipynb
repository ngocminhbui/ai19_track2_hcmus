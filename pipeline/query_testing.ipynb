{
 "cells": [
  {
   "cell_type": "code",
   "execution_count": 1,
   "metadata": {},
   "outputs": [],
   "source": [
    "%load_ext autoreload\n",
    "%autoreload 2\n",
    "import os\n",
    "import cv2\n",
    "from vehicle_reid.embedder import Embedder\n",
    "from vehicle_reid.evaluate import Evaluator\n",
    "from vehicle_reid import exp_config\n",
    "from vehicle_reid.common import *\n",
    "from matplotlib import pyplot as plt\n",
    "import tensorflow as tf\n",
    "import numpy as np\n",
    "import h5py\n",
    "import csv\n",
    "EXP_ROOT = \"/home/hthieu/AICityChallenge2019/track2_experiments/\"\n",
    "# EXP_ID = \"180419_triplet-reid_pre-trained_densenet161_track2_small_512/\"\n",
    "EXP_ID = \"270419_triplet-reid_pre-trained_densenet161_track2_small\"\n",
    "GPU_ID = \"1\"\n",
    "EXP_DIR = os.path.join(EXP_ROOT,EXP_ID)\n",
    "VIEW_QUE = os.path.join(EXP_DIR, \"que_views.h5\")"
   ]
  },
  {
   "cell_type": "code",
   "execution_count": 14,
   "metadata": {},
   "outputs": [
    {
     "name": "stdout",
     "output_type": "stream",
     "text": [
      "Loading args from /home/hthieu/AICityChallenge2019/track2_experiments/270419_triplet-reid_pre-trained_densenet161_track2_small/args.json.\n",
      "False False\n",
      "INFO:tensorflow:Scale of 0 disables regularizer.\n",
      "Save h5 file to:  /home/hthieu/AICityChallenge2019/track2_experiments/270419_triplet-reid_pre-trained_densenet161_track2_small/track2_query_embedding.h5\n",
      "Restoring from checkpoint: /home/hthieu/AICityChallenge2019/track2_experiments/270419_triplet-reid_pre-trained_densenet161_track2_small/checkpoint-12729\n",
      "INFO:tensorflow:Restoring parameters from /home/hthieu/AICityChallenge2019/track2_experiments/270419_triplet-reid_pre-trained_densenet161_track2_small/checkpoint-12729\n",
      "Embedded batch 1024-1052/1052\n",
      "Done with embedding, aggregating augmentations...\n",
      "(1052, 512)\n",
      "(1052, 512)\n",
      "False False\n",
      "INFO:tensorflow:Scale of 0 disables regularizer.\n",
      "Save h5 file to:  /home/hthieu/AICityChallenge2019/track2_experiments/270419_triplet-reid_pre-trained_densenet161_track2_small/track2_test_embedding.h5\n",
      "Restoring from checkpoint: /home/hthieu/AICityChallenge2019/track2_experiments/270419_triplet-reid_pre-trained_densenet161_track2_small/checkpoint-12729\n",
      "INFO:tensorflow:Restoring parameters from /home/hthieu/AICityChallenge2019/track2_experiments/270419_triplet-reid_pre-trained_densenet161_track2_small/checkpoint-12729\n",
      "Embedded batch 18176-18290/18290\n",
      "Done with embedding, aggregating augmentations...\n",
      "(18290, 512)\n",
      "(18290, 512)\n"
     ]
    }
   ],
   "source": [
    "embedder = Embedder(EXP_DIR, GPU_ID)\n",
    "config = exp_config.Test()\n",
    "config.QUE_EMB_FILE = osp.join(EXP_DIR, config.QUE_EMB_FILE)\n",
    "config.GAL_EMB_FILE = osp.join(EXP_DIR, config.GAL_EMB_FILE)\n",
    "# config.FLIP = True\n",
    "# config.CROP = 'five'\n",
    "embedder.do_experiment_with_config(config)"
   ]
  },
  {
   "cell_type": "code",
   "execution_count": 20,
   "metadata": {},
   "outputs": [
    {
     "data": {
      "text/plain": [
       "[array([175, 536, 591, 161, 692, 565, 734, 569]),\n",
       " array([734, 591, 565, 692, 175, 536, 161, 569]),\n",
       " array([175, 692, 591, 161, 734, 536, 565, 569]),\n",
       " array([161, 536, 565, 734, 175, 591, 692, 569]),\n",
       " array([553, 617])]"
      ]
     },
     "execution_count": 20,
     "metadata": {},
     "output_type": "execute_result"
    }
   ],
   "source": [
    "query_bus, test_bus = read_bus_query_test()\n",
    "test_bus_train = load_h5(\"results_dists/testfulltrainbus798x5.h5\")\n",
    "query_to_test_track = load_h5(\"results_dists/querytestfull1052x798.h5\")\n",
    "exec_query_bus(test_bus_train,\n",
    "               query_to_test_track,\n",
    "               test_bus,query_bus)"
   ]
  },
  {
   "cell_type": "code",
   "execution_count": 2,
   "metadata": {},
   "outputs": [
    {
     "name": "stdout",
     "output_type": "stream",
     "text": [
      "QUE:  data/track2_query.csv\n",
      "GAL:  data/track2_test_v3.csv\n",
      "Load:  data/track2_query.csv\n",
      "Load:  data/track2_test_v3.csv\n",
      "Load:  /home/hthieu/AICityChallenge2019/track2_experiments/270419_triplet-reid_pre-trained_densenet161_track2_small/track2_query_embedding.h5\n",
      "Load:  /home/hthieu/AICityChallenge2019/track2_experiments/270419_triplet-reid_pre-trained_densenet161_track2_small/track2_test_embedding.h5\n",
      "==========================\n",
      "(18290, 512)\n",
      "(1052, 512)\n",
      "Total queries:  1052\n",
      "Results folder:  /home/hthieu/AICityChallenge2019/test_results/\n",
      "Submission file:  track2.txt\n",
      "Calculating batch 1024-1052/1052\n",
      "mAP: 100.00% | top-1: 100.00% top-2: 100.00% | top-5: 100.00% | top-10: 100.00%\n"
     ]
    }
   ],
   "source": [
    "config = exp_config.Test()\n",
    "evaluator = Evaluator(EXP_DIR, GPU_ID)\n",
    "evaluator.do_evaluate_with_config(config, query_extention = True)"
   ]
  },
  {
   "cell_type": "code",
   "execution_count": null,
   "metadata": {},
   "outputs": [],
   "source": [
    "config = exp_config.CustomEmbed()\n",
    "view_classifier = Classifier(exp_config.ViewClassifier(), GPU_ID) \n",
    "view_classifier.classifiy(config.QUE_IMG_ROOT, config.QUE_FILE, VIEW_QUE)"
   ]
  },
  {
   "cell_type": "code",
   "execution_count": null,
   "metadata": {},
   "outputs": [],
   "source": []
  },
  {
   "cell_type": "code",
   "execution_count": 6,
   "metadata": {},
   "outputs": [],
   "source": [
    "import h5py\n",
    "emb_mat = []\n",
    "with open(\"/home/bnminh/projects/ai2/SOURCE/triplet-reid-pytorch-ai2/val/embds.csv\") as fi:\n",
    "    csv_reader = csv.reader(fi, delimiter = ',')\n",
    "    for info in csv_reader:\n",
    "        emb_mat.append(info)\n",
    "emb_mat = np.array(emb_mat).astype(np.float32)\n",
    "with h5py.File(\"bnminh_validate.h5\", 'w') as f_out:\n",
    "    f_out.create_dataset('emb', data=emb_mat)\n",
    "    f_out.close()"
   ]
  },
  {
   "cell_type": "code",
   "execution_count": 8,
   "metadata": {},
   "outputs": [],
   "source": [
    "class BNMinhValidate:\n",
    "    def __init__(self):\n",
    "        self.QUE_EMB_FILE=\"bnminh_validate.h5\"\n",
    "        self.GAL_EMB_FILE=\"bnminh_validate.h5\"\n",
    "        self.QUE_FILE=\"data/track2_validate.csv\"\n",
    "        self.GAL_FILE=\"data/track2_validate_v3.csv\"\n",
    "        self.QUE_IMG_ROOT=\"/home/hthieu/AICityChallenge2019/data/Track2Data/image_train/\"\n",
    "        self.GAL_IMG_ROOT=\"/home/hthieu/AICityChallenge2019/data/Track2Data/image_train/\"\n",
    "        self.RESULTS_ROOT=\"/home/hthieu/AICityChallenge2019/val_results/\"\n",
    "        self.QUE_VIEW_POINT=\"val_que_view_point.h5\"\n",
    "        self.GAL_VIEW_POINT=\"val_view_point.h5\"\n",
    "        self.FLIP = False\n",
    "        self.CROP = False"
   ]
  },
  {
   "cell_type": "code",
   "execution_count": 21,
   "metadata": {},
   "outputs": [],
   "source": [
    "class HTHieuValidate:\n",
    "    def __init__(self):\n",
    "        self.QUE_EMB_FILE=\"track2_validate_embedding.h5\"\n",
    "        self.GAL_EMB_FILE=\"track2_validate_embedding.h5\"\n",
    "        self.QUE_FILE=\"data/track2_validate.csv\"\n",
    "        self.GAL_FILE=\"data/track2_validate_v3.csv\"\n",
    "        self.QUE_IMG_ROOT=\"/home/hthieu/AICityChallenge2019/data/Track2Data/image_train/\"\n",
    "        self.GAL_IMG_ROOT=\"/home/hthieu/AICityChallenge2019/data/Track2Data/image_train/\"\n",
    "        self.RESULTS_ROOT=\"/home/hthieu/AICityChallenge2019/val_results/\"\n",
    "        self.QUE_VIEW_POINT=\"val_que_view_point.h5\"\n",
    "        self.GAL_VIEW_POINT=\"val_view_point.h5\"\n",
    "        self.FLIP = False\n",
    "        self.CROP = False"
   ]
  },
  {
   "cell_type": "code",
   "execution_count": 14,
   "metadata": {},
   "outputs": [
    {
     "name": "stdout",
     "output_type": "stream",
     "text": [
      "QUE:  data/track2_validate.csv\n",
      "GAL:  data/track2_validate_v3.csv\n",
      "Load:  data/track2_validate.csv\n",
      "Load:  data/track2_validate_v3.csv\n",
      "Load:  bnminh_validate.h5\n",
      "Load:  bnminh_validate.h5\n",
      "==========================\n",
      "(9155, 128)\n",
      "(9155, 128)\n",
      "(9155,)\n",
      "(9155,)\n",
      "Total queries:  9155\n",
      "Results folder:  /home/hthieu/AICityChallenge2019/val_results/\n",
      "Submission file:  track2.txt\n"
     ]
    },
    {
     "ename": "ResourceExhaustedError",
     "evalue": "OOM when allocating tensor with shape[128,9155,128] and type float on /job:localhost/replica:0/task:0/device:GPU:0 by allocator GPU_0_bfc\n\t [[node cdist_3/sub (defined at /home/hthieu/AICityChallenge2019/triplet-reid/loss.py:20)  = Sub[T=DT_FLOAT, _device=\"/job:localhost/replica:0/task:0/device:GPU:0\"](cdist_3/ExpandDims, cdist_3/ExpandDims_1)]]\nHint: If you want to see a list of allocated tensors when OOM happens, add report_tensor_allocations_upon_oom to RunOptions for current allocation info.\n\n\nCaused by op 'cdist_3/sub', defined at:\n  File \"/usr/lib/python3.5/runpy.py\", line 184, in _run_module_as_main\n    \"__main__\", mod_spec)\n  File \"/usr/lib/python3.5/runpy.py\", line 85, in _run_code\n    exec(code, run_globals)\n  File \"/home/hthieu/.local/lib/python3.5/site-packages/ipykernel_launcher.py\", line 16, in <module>\n    app.launch_new_instance()\n  File \"/home/hthieu/.local/lib/python3.5/site-packages/traitlets/config/application.py\", line 658, in launch_instance\n    app.start()\n  File \"/home/hthieu/.local/lib/python3.5/site-packages/ipykernel/kernelapp.py\", line 505, in start\n    self.io_loop.start()\n  File \"/home/hthieu/.local/lib/python3.5/site-packages/tornado/platform/asyncio.py\", line 132, in start\n    self.asyncio_loop.run_forever()\n  File \"/usr/lib/python3.5/asyncio/base_events.py\", line 345, in run_forever\n    self._run_once()\n  File \"/usr/lib/python3.5/asyncio/base_events.py\", line 1312, in _run_once\n    handle._run()\n  File \"/usr/lib/python3.5/asyncio/events.py\", line 125, in _run\n    self._callback(*self._args)\n  File \"/home/hthieu/.local/lib/python3.5/site-packages/tornado/ioloop.py\", line 758, in _run_callback\n    ret = callback()\n  File \"/home/hthieu/.local/lib/python3.5/site-packages/tornado/stack_context.py\", line 300, in null_wrapper\n    return fn(*args, **kwargs)\n  File \"/home/hthieu/.local/lib/python3.5/site-packages/tornado/gen.py\", line 1233, in inner\n    self.run()\n  File \"/home/hthieu/.local/lib/python3.5/site-packages/tornado/gen.py\", line 1147, in run\n    yielded = self.gen.send(value)\n  File \"/home/hthieu/.local/lib/python3.5/site-packages/ipykernel/kernelbase.py\", line 357, in process_one\n    yield gen.maybe_future(dispatch(*args))\n  File \"/home/hthieu/.local/lib/python3.5/site-packages/tornado/gen.py\", line 326, in wrapper\n    yielded = next(result)\n  File \"/home/hthieu/.local/lib/python3.5/site-packages/ipykernel/kernelbase.py\", line 267, in dispatch_shell\n    yield gen.maybe_future(handler(stream, idents, msg))\n  File \"/home/hthieu/.local/lib/python3.5/site-packages/tornado/gen.py\", line 326, in wrapper\n    yielded = next(result)\n  File \"/home/hthieu/.local/lib/python3.5/site-packages/ipykernel/kernelbase.py\", line 534, in execute_request\n    user_expressions, allow_stdin,\n  File \"/home/hthieu/.local/lib/python3.5/site-packages/tornado/gen.py\", line 326, in wrapper\n    yielded = next(result)\n  File \"/home/hthieu/.local/lib/python3.5/site-packages/ipykernel/ipkernel.py\", line 294, in do_execute\n    res = shell.run_cell(code, store_history=store_history, silent=silent)\n  File \"/home/hthieu/.local/lib/python3.5/site-packages/ipykernel/zmqshell.py\", line 536, in run_cell\n    return super(ZMQInteractiveShell, self).run_cell(*args, **kwargs)\n  File \"/home/hthieu/.local/lib/python3.5/site-packages/IPython/core/interactiveshell.py\", line 2843, in run_cell\n    raw_cell, store_history, silent, shell_futures)\n  File \"/home/hthieu/.local/lib/python3.5/site-packages/IPython/core/interactiveshell.py\", line 2869, in _run_cell\n    return runner(coro)\n  File \"/home/hthieu/.local/lib/python3.5/site-packages/IPython/core/async_helpers.py\", line 67, in _pseudo_sync_runner\n    coro.send(None)\n  File \"/home/hthieu/.local/lib/python3.5/site-packages/IPython/core/interactiveshell.py\", line 3044, in run_cell_async\n    interactivity=interactivity, compiler=compiler, result=result)\n  File \"/home/hthieu/.local/lib/python3.5/site-packages/IPython/core/interactiveshell.py\", line 3215, in run_ast_nodes\n    if (yield from self.run_code(code, result)):\n  File \"/home/hthieu/.local/lib/python3.5/site-packages/IPython/core/interactiveshell.py\", line 3291, in run_code\n    exec(code_obj, self.user_global_ns, self.user_ns)\n  File \"<ipython-input-14-919a946971db>\", line 3, in <module>\n    evaluator.do_evaluate_with_config(config, query_extention = False)\n  File \"/home/hthieu/AICityChallenge2019/triplet-reid/vehicle_reid/evaluate.py\", line 103, in do_evaluate_with_config\n    self.exe_query(query_extention)\n  File \"/home/hthieu/AICityChallenge2019/triplet-reid/vehicle_reid/evaluate.py\", line 163, in exe_query\n    batch_distances = loss.cdist(batch_embs, self.gallery_embs, metric=metric)\n  File \"/home/hthieu/AICityChallenge2019/triplet-reid/loss.py\", line 46, in cdist\n    diffs = all_diffs(a, b)\n  File \"/home/hthieu/AICityChallenge2019/triplet-reid/loss.py\", line 20, in all_diffs\n    return tf.expand_dims(a, axis=1) - tf.expand_dims(b, axis=0)\n  File \"/home/hthieu/.local/lib/python3.5/site-packages/tensorflow/python/ops/math_ops.py\", line 866, in binary_op_wrapper\n    return func(x, y, name=name)\n  File \"/home/hthieu/.local/lib/python3.5/site-packages/tensorflow/python/ops/gen_math_ops.py\", line 8318, in sub\n    \"Sub\", x=x, y=y, name=name)\n  File \"/home/hthieu/.local/lib/python3.5/site-packages/tensorflow/python/framework/op_def_library.py\", line 787, in _apply_op_helper\n    op_def=op_def)\n  File \"/home/hthieu/.local/lib/python3.5/site-packages/tensorflow/python/util/deprecation.py\", line 488, in new_func\n    return func(*args, **kwargs)\n  File \"/home/hthieu/.local/lib/python3.5/site-packages/tensorflow/python/framework/ops.py\", line 3274, in create_op\n    op_def=op_def)\n  File \"/home/hthieu/.local/lib/python3.5/site-packages/tensorflow/python/framework/ops.py\", line 1770, in __init__\n    self._traceback = tf_stack.extract_stack()\n\nResourceExhaustedError (see above for traceback): OOM when allocating tensor with shape[128,9155,128] and type float on /job:localhost/replica:0/task:0/device:GPU:0 by allocator GPU_0_bfc\n\t [[node cdist_3/sub (defined at /home/hthieu/AICityChallenge2019/triplet-reid/loss.py:20)  = Sub[T=DT_FLOAT, _device=\"/job:localhost/replica:0/task:0/device:GPU:0\"](cdist_3/ExpandDims, cdist_3/ExpandDims_1)]]\nHint: If you want to see a list of allocated tensors when OOM happens, add report_tensor_allocations_upon_oom to RunOptions for current allocation info.\n\n",
     "output_type": "error",
     "traceback": [
      "\u001b[0;31m---------------------------------------------------------------------------\u001b[0m",
      "\u001b[0;31mResourceExhaustedError\u001b[0m                    Traceback (most recent call last)",
      "\u001b[0;32m~/.local/lib/python3.5/site-packages/tensorflow/python/client/session.py\u001b[0m in \u001b[0;36m_do_call\u001b[0;34m(self, fn, *args)\u001b[0m\n\u001b[1;32m   1333\u001b[0m     \u001b[0;32mtry\u001b[0m\u001b[0;34m:\u001b[0m\u001b[0;34m\u001b[0m\u001b[0m\n\u001b[0;32m-> 1334\u001b[0;31m       \u001b[0;32mreturn\u001b[0m \u001b[0mfn\u001b[0m\u001b[0;34m(\u001b[0m\u001b[0;34m*\u001b[0m\u001b[0margs\u001b[0m\u001b[0;34m)\u001b[0m\u001b[0;34m\u001b[0m\u001b[0m\n\u001b[0m\u001b[1;32m   1335\u001b[0m     \u001b[0;32mexcept\u001b[0m \u001b[0merrors\u001b[0m\u001b[0;34m.\u001b[0m\u001b[0mOpError\u001b[0m \u001b[0;32mas\u001b[0m \u001b[0me\u001b[0m\u001b[0;34m:\u001b[0m\u001b[0;34m\u001b[0m\u001b[0m\n",
      "\u001b[0;32m~/.local/lib/python3.5/site-packages/tensorflow/python/client/session.py\u001b[0m in \u001b[0;36m_run_fn\u001b[0;34m(feed_dict, fetch_list, target_list, options, run_metadata)\u001b[0m\n\u001b[1;32m   1318\u001b[0m       return self._call_tf_sessionrun(\n\u001b[0;32m-> 1319\u001b[0;31m           options, feed_dict, fetch_list, target_list, run_metadata)\n\u001b[0m\u001b[1;32m   1320\u001b[0m \u001b[0;34m\u001b[0m\u001b[0m\n",
      "\u001b[0;32m~/.local/lib/python3.5/site-packages/tensorflow/python/client/session.py\u001b[0m in \u001b[0;36m_call_tf_sessionrun\u001b[0;34m(self, options, feed_dict, fetch_list, target_list, run_metadata)\u001b[0m\n\u001b[1;32m   1406\u001b[0m         \u001b[0mself\u001b[0m\u001b[0;34m.\u001b[0m\u001b[0m_session\u001b[0m\u001b[0;34m,\u001b[0m \u001b[0moptions\u001b[0m\u001b[0;34m,\u001b[0m \u001b[0mfeed_dict\u001b[0m\u001b[0;34m,\u001b[0m \u001b[0mfetch_list\u001b[0m\u001b[0;34m,\u001b[0m \u001b[0mtarget_list\u001b[0m\u001b[0;34m,\u001b[0m\u001b[0;34m\u001b[0m\u001b[0m\n\u001b[0;32m-> 1407\u001b[0;31m         run_metadata)\n\u001b[0m\u001b[1;32m   1408\u001b[0m \u001b[0;34m\u001b[0m\u001b[0m\n",
      "\u001b[0;31mResourceExhaustedError\u001b[0m: OOM when allocating tensor with shape[128,9155,128] and type float on /job:localhost/replica:0/task:0/device:GPU:0 by allocator GPU_0_bfc\n\t [[{{node cdist_3/sub}} = Sub[T=DT_FLOAT, _device=\"/job:localhost/replica:0/task:0/device:GPU:0\"](cdist_3/ExpandDims, cdist_3/ExpandDims_1)]]\nHint: If you want to see a list of allocated tensors when OOM happens, add report_tensor_allocations_upon_oom to RunOptions for current allocation info.\n",
      "\nDuring handling of the above exception, another exception occurred:\n",
      "\u001b[0;31mResourceExhaustedError\u001b[0m                    Traceback (most recent call last)",
      "\u001b[0;32m<ipython-input-14-919a946971db>\u001b[0m in \u001b[0;36m<module>\u001b[0;34m\u001b[0m\n\u001b[1;32m      1\u001b[0m \u001b[0mevaluator\u001b[0m \u001b[0;34m=\u001b[0m \u001b[0mEvaluator\u001b[0m\u001b[0;34m(\u001b[0m\u001b[0;34m\"\"\u001b[0m\u001b[0;34m,\u001b[0m \u001b[0mGPU_ID\u001b[0m\u001b[0;34m)\u001b[0m\u001b[0;34m\u001b[0m\u001b[0m\n\u001b[1;32m      2\u001b[0m \u001b[0mconfig\u001b[0m \u001b[0;34m=\u001b[0m \u001b[0mBNMinhValidate\u001b[0m\u001b[0;34m(\u001b[0m\u001b[0;34m)\u001b[0m\u001b[0;34m\u001b[0m\u001b[0m\n\u001b[0;32m----> 3\u001b[0;31m \u001b[0mevaluator\u001b[0m\u001b[0;34m.\u001b[0m\u001b[0mdo_evaluate_with_config\u001b[0m\u001b[0;34m(\u001b[0m\u001b[0mconfig\u001b[0m\u001b[0;34m,\u001b[0m \u001b[0mquery_extention\u001b[0m \u001b[0;34m=\u001b[0m \u001b[0;32mFalse\u001b[0m\u001b[0;34m)\u001b[0m\u001b[0;34m\u001b[0m\u001b[0m\n\u001b[0m",
      "\u001b[0;32m~/AICityChallenge2019/triplet-reid/vehicle_reid/evaluate.py\u001b[0m in \u001b[0;36mdo_evaluate_with_config\u001b[0;34m(self, config, query_extention)\u001b[0m\n\u001b[1;32m    101\u001b[0m \u001b[0;34m\u001b[0m\u001b[0m\n\u001b[1;32m    102\u001b[0m         \u001b[0mself\u001b[0m\u001b[0;34m.\u001b[0m\u001b[0mload_embed_files\u001b[0m\u001b[0;34m(\u001b[0m\u001b[0;34m)\u001b[0m\u001b[0;34m\u001b[0m\u001b[0m\n\u001b[0;32m--> 103\u001b[0;31m         \u001b[0mself\u001b[0m\u001b[0;34m.\u001b[0m\u001b[0mexe_query\u001b[0m\u001b[0;34m(\u001b[0m\u001b[0mquery_extention\u001b[0m\u001b[0;34m)\u001b[0m\u001b[0;34m\u001b[0m\u001b[0m\n\u001b[0m\u001b[1;32m    104\u001b[0m     \u001b[0;32mdef\u001b[0m \u001b[0mcalculate_distances\u001b[0m\u001b[0;34m(\u001b[0m\u001b[0mself\u001b[0m\u001b[0;34m,\u001b[0m \u001b[0mQ\u001b[0m\u001b[0;34m,\u001b[0m \u001b[0mG\u001b[0m\u001b[0;34m)\u001b[0m\u001b[0;34m:\u001b[0m\u001b[0;34m\u001b[0m\u001b[0m\n\u001b[1;32m    105\u001b[0m         \u001b[0mmetric\u001b[0m \u001b[0;34m=\u001b[0m \u001b[0;34m'euclidean'\u001b[0m\u001b[0;34m\u001b[0m\u001b[0m\n",
      "\u001b[0;32m~/AICityChallenge2019/triplet-reid/vehicle_reid/evaluate.py\u001b[0m in \u001b[0;36mexe_query\u001b[0;34m(self, query_extention)\u001b[0m\n\u001b[1;32m    179\u001b[0m                         \u001b[0mtop1_views\u001b[0m\u001b[0;34m,\u001b[0m \u001b[0mdistances\u001b[0m\u001b[0;34m,\u001b[0m \u001b[0mpids\u001b[0m\u001b[0;34m,\u001b[0m \u001b[0mfids\u001b[0m \u001b[0;34m=\u001b[0m \u001b[0msess\u001b[0m\u001b[0;34m.\u001b[0m\u001b[0mrun\u001b[0m\u001b[0;34m(\u001b[0m\u001b[0;34m[\u001b[0m\u001b[0mtop1_view\u001b[0m\u001b[0;34m,\u001b[0m \u001b[0mque_ext_re_ranking\u001b[0m\u001b[0;34m,\u001b[0m \u001b[0mbatch_pids\u001b[0m\u001b[0;34m,\u001b[0m \u001b[0mbatch_fids\u001b[0m\u001b[0;34m]\u001b[0m\u001b[0;34m)\u001b[0m\u001b[0;34m\u001b[0m\u001b[0m\n\u001b[1;32m    180\u001b[0m                     \u001b[0;32melse\u001b[0m\u001b[0;34m:\u001b[0m\u001b[0;34m\u001b[0m\u001b[0m\n\u001b[0;32m--> 181\u001b[0;31m                         \u001b[0mdistances\u001b[0m\u001b[0;34m,\u001b[0m \u001b[0mpids\u001b[0m\u001b[0;34m,\u001b[0m \u001b[0mfids\u001b[0m \u001b[0;34m=\u001b[0m \u001b[0msess\u001b[0m\u001b[0;34m.\u001b[0m\u001b[0mrun\u001b[0m\u001b[0;34m(\u001b[0m\u001b[0;34m[\u001b[0m\u001b[0mbatch_distances\u001b[0m\u001b[0;34m,\u001b[0m \u001b[0mbatch_pids\u001b[0m\u001b[0;34m,\u001b[0m \u001b[0mbatch_fids\u001b[0m\u001b[0;34m]\u001b[0m\u001b[0;34m)\u001b[0m\u001b[0;34m\u001b[0m\u001b[0m\n\u001b[0m\u001b[1;32m    182\u001b[0m                         \u001b[0mtop1_views\u001b[0m \u001b[0;34m=\u001b[0m \u001b[0mnp\u001b[0m\u001b[0;34m.\u001b[0m\u001b[0mzeros\u001b[0m\u001b[0;34m(\u001b[0m\u001b[0mfids\u001b[0m\u001b[0;34m.\u001b[0m\u001b[0mshape\u001b[0m\u001b[0;34m,\u001b[0m \u001b[0mdtype\u001b[0m\u001b[0;34m=\u001b[0m\u001b[0mint\u001b[0m\u001b[0;34m)\u001b[0m\u001b[0;34m\u001b[0m\u001b[0m\n\u001b[1;32m    183\u001b[0m \u001b[0;34m\u001b[0m\u001b[0m\n",
      "\u001b[0;32m~/.local/lib/python3.5/site-packages/tensorflow/python/client/session.py\u001b[0m in \u001b[0;36mrun\u001b[0;34m(self, fetches, feed_dict, options, run_metadata)\u001b[0m\n\u001b[1;32m    927\u001b[0m     \u001b[0;32mtry\u001b[0m\u001b[0;34m:\u001b[0m\u001b[0;34m\u001b[0m\u001b[0m\n\u001b[1;32m    928\u001b[0m       result = self._run(None, fetches, feed_dict, options_ptr,\n\u001b[0;32m--> 929\u001b[0;31m                          run_metadata_ptr)\n\u001b[0m\u001b[1;32m    930\u001b[0m       \u001b[0;32mif\u001b[0m \u001b[0mrun_metadata\u001b[0m\u001b[0;34m:\u001b[0m\u001b[0;34m\u001b[0m\u001b[0m\n\u001b[1;32m    931\u001b[0m         \u001b[0mproto_data\u001b[0m \u001b[0;34m=\u001b[0m \u001b[0mtf_session\u001b[0m\u001b[0;34m.\u001b[0m\u001b[0mTF_GetBuffer\u001b[0m\u001b[0;34m(\u001b[0m\u001b[0mrun_metadata_ptr\u001b[0m\u001b[0;34m)\u001b[0m\u001b[0;34m\u001b[0m\u001b[0m\n",
      "\u001b[0;32m~/.local/lib/python3.5/site-packages/tensorflow/python/client/session.py\u001b[0m in \u001b[0;36m_run\u001b[0;34m(self, handle, fetches, feed_dict, options, run_metadata)\u001b[0m\n\u001b[1;32m   1150\u001b[0m     \u001b[0;32mif\u001b[0m \u001b[0mfinal_fetches\u001b[0m \u001b[0;32mor\u001b[0m \u001b[0mfinal_targets\u001b[0m \u001b[0;32mor\u001b[0m \u001b[0;34m(\u001b[0m\u001b[0mhandle\u001b[0m \u001b[0;32mand\u001b[0m \u001b[0mfeed_dict_tensor\u001b[0m\u001b[0;34m)\u001b[0m\u001b[0;34m:\u001b[0m\u001b[0;34m\u001b[0m\u001b[0m\n\u001b[1;32m   1151\u001b[0m       results = self._do_run(handle, final_targets, final_fetches,\n\u001b[0;32m-> 1152\u001b[0;31m                              feed_dict_tensor, options, run_metadata)\n\u001b[0m\u001b[1;32m   1153\u001b[0m     \u001b[0;32melse\u001b[0m\u001b[0;34m:\u001b[0m\u001b[0;34m\u001b[0m\u001b[0m\n\u001b[1;32m   1154\u001b[0m       \u001b[0mresults\u001b[0m \u001b[0;34m=\u001b[0m \u001b[0;34m[\u001b[0m\u001b[0;34m]\u001b[0m\u001b[0;34m\u001b[0m\u001b[0m\n",
      "\u001b[0;32m~/.local/lib/python3.5/site-packages/tensorflow/python/client/session.py\u001b[0m in \u001b[0;36m_do_run\u001b[0;34m(self, handle, target_list, fetch_list, feed_dict, options, run_metadata)\u001b[0m\n\u001b[1;32m   1326\u001b[0m     \u001b[0;32mif\u001b[0m \u001b[0mhandle\u001b[0m \u001b[0;32mis\u001b[0m \u001b[0;32mNone\u001b[0m\u001b[0;34m:\u001b[0m\u001b[0;34m\u001b[0m\u001b[0m\n\u001b[1;32m   1327\u001b[0m       return self._do_call(_run_fn, feeds, fetches, targets, options,\n\u001b[0;32m-> 1328\u001b[0;31m                            run_metadata)\n\u001b[0m\u001b[1;32m   1329\u001b[0m     \u001b[0;32melse\u001b[0m\u001b[0;34m:\u001b[0m\u001b[0;34m\u001b[0m\u001b[0m\n\u001b[1;32m   1330\u001b[0m       \u001b[0;32mreturn\u001b[0m \u001b[0mself\u001b[0m\u001b[0;34m.\u001b[0m\u001b[0m_do_call\u001b[0m\u001b[0;34m(\u001b[0m\u001b[0m_prun_fn\u001b[0m\u001b[0;34m,\u001b[0m \u001b[0mhandle\u001b[0m\u001b[0;34m,\u001b[0m \u001b[0mfeeds\u001b[0m\u001b[0;34m,\u001b[0m \u001b[0mfetches\u001b[0m\u001b[0;34m)\u001b[0m\u001b[0;34m\u001b[0m\u001b[0m\n",
      "\u001b[0;32m~/.local/lib/python3.5/site-packages/tensorflow/python/client/session.py\u001b[0m in \u001b[0;36m_do_call\u001b[0;34m(self, fn, *args)\u001b[0m\n\u001b[1;32m   1346\u001b[0m           \u001b[0;32mpass\u001b[0m\u001b[0;34m\u001b[0m\u001b[0m\n\u001b[1;32m   1347\u001b[0m       \u001b[0mmessage\u001b[0m \u001b[0;34m=\u001b[0m \u001b[0merror_interpolation\u001b[0m\u001b[0;34m.\u001b[0m\u001b[0minterpolate\u001b[0m\u001b[0;34m(\u001b[0m\u001b[0mmessage\u001b[0m\u001b[0;34m,\u001b[0m \u001b[0mself\u001b[0m\u001b[0;34m.\u001b[0m\u001b[0m_graph\u001b[0m\u001b[0;34m)\u001b[0m\u001b[0;34m\u001b[0m\u001b[0m\n\u001b[0;32m-> 1348\u001b[0;31m       \u001b[0;32mraise\u001b[0m \u001b[0mtype\u001b[0m\u001b[0;34m(\u001b[0m\u001b[0me\u001b[0m\u001b[0;34m)\u001b[0m\u001b[0;34m(\u001b[0m\u001b[0mnode_def\u001b[0m\u001b[0;34m,\u001b[0m \u001b[0mop\u001b[0m\u001b[0;34m,\u001b[0m \u001b[0mmessage\u001b[0m\u001b[0;34m)\u001b[0m\u001b[0;34m\u001b[0m\u001b[0m\n\u001b[0m\u001b[1;32m   1349\u001b[0m \u001b[0;34m\u001b[0m\u001b[0m\n\u001b[1;32m   1350\u001b[0m   \u001b[0;32mdef\u001b[0m \u001b[0m_extend_graph\u001b[0m\u001b[0;34m(\u001b[0m\u001b[0mself\u001b[0m\u001b[0;34m)\u001b[0m\u001b[0;34m:\u001b[0m\u001b[0;34m\u001b[0m\u001b[0m\n",
      "\u001b[0;31mResourceExhaustedError\u001b[0m: OOM when allocating tensor with shape[128,9155,128] and type float on /job:localhost/replica:0/task:0/device:GPU:0 by allocator GPU_0_bfc\n\t [[node cdist_3/sub (defined at /home/hthieu/AICityChallenge2019/triplet-reid/loss.py:20)  = Sub[T=DT_FLOAT, _device=\"/job:localhost/replica:0/task:0/device:GPU:0\"](cdist_3/ExpandDims, cdist_3/ExpandDims_1)]]\nHint: If you want to see a list of allocated tensors when OOM happens, add report_tensor_allocations_upon_oom to RunOptions for current allocation info.\n\n\nCaused by op 'cdist_3/sub', defined at:\n  File \"/usr/lib/python3.5/runpy.py\", line 184, in _run_module_as_main\n    \"__main__\", mod_spec)\n  File \"/usr/lib/python3.5/runpy.py\", line 85, in _run_code\n    exec(code, run_globals)\n  File \"/home/hthieu/.local/lib/python3.5/site-packages/ipykernel_launcher.py\", line 16, in <module>\n    app.launch_new_instance()\n  File \"/home/hthieu/.local/lib/python3.5/site-packages/traitlets/config/application.py\", line 658, in launch_instance\n    app.start()\n  File \"/home/hthieu/.local/lib/python3.5/site-packages/ipykernel/kernelapp.py\", line 505, in start\n    self.io_loop.start()\n  File \"/home/hthieu/.local/lib/python3.5/site-packages/tornado/platform/asyncio.py\", line 132, in start\n    self.asyncio_loop.run_forever()\n  File \"/usr/lib/python3.5/asyncio/base_events.py\", line 345, in run_forever\n    self._run_once()\n  File \"/usr/lib/python3.5/asyncio/base_events.py\", line 1312, in _run_once\n    handle._run()\n  File \"/usr/lib/python3.5/asyncio/events.py\", line 125, in _run\n    self._callback(*self._args)\n  File \"/home/hthieu/.local/lib/python3.5/site-packages/tornado/ioloop.py\", line 758, in _run_callback\n    ret = callback()\n  File \"/home/hthieu/.local/lib/python3.5/site-packages/tornado/stack_context.py\", line 300, in null_wrapper\n    return fn(*args, **kwargs)\n  File \"/home/hthieu/.local/lib/python3.5/site-packages/tornado/gen.py\", line 1233, in inner\n    self.run()\n  File \"/home/hthieu/.local/lib/python3.5/site-packages/tornado/gen.py\", line 1147, in run\n    yielded = self.gen.send(value)\n  File \"/home/hthieu/.local/lib/python3.5/site-packages/ipykernel/kernelbase.py\", line 357, in process_one\n    yield gen.maybe_future(dispatch(*args))\n  File \"/home/hthieu/.local/lib/python3.5/site-packages/tornado/gen.py\", line 326, in wrapper\n    yielded = next(result)\n  File \"/home/hthieu/.local/lib/python3.5/site-packages/ipykernel/kernelbase.py\", line 267, in dispatch_shell\n    yield gen.maybe_future(handler(stream, idents, msg))\n  File \"/home/hthieu/.local/lib/python3.5/site-packages/tornado/gen.py\", line 326, in wrapper\n    yielded = next(result)\n  File \"/home/hthieu/.local/lib/python3.5/site-packages/ipykernel/kernelbase.py\", line 534, in execute_request\n    user_expressions, allow_stdin,\n  File \"/home/hthieu/.local/lib/python3.5/site-packages/tornado/gen.py\", line 326, in wrapper\n    yielded = next(result)\n  File \"/home/hthieu/.local/lib/python3.5/site-packages/ipykernel/ipkernel.py\", line 294, in do_execute\n    res = shell.run_cell(code, store_history=store_history, silent=silent)\n  File \"/home/hthieu/.local/lib/python3.5/site-packages/ipykernel/zmqshell.py\", line 536, in run_cell\n    return super(ZMQInteractiveShell, self).run_cell(*args, **kwargs)\n  File \"/home/hthieu/.local/lib/python3.5/site-packages/IPython/core/interactiveshell.py\", line 2843, in run_cell\n    raw_cell, store_history, silent, shell_futures)\n  File \"/home/hthieu/.local/lib/python3.5/site-packages/IPython/core/interactiveshell.py\", line 2869, in _run_cell\n    return runner(coro)\n  File \"/home/hthieu/.local/lib/python3.5/site-packages/IPython/core/async_helpers.py\", line 67, in _pseudo_sync_runner\n    coro.send(None)\n  File \"/home/hthieu/.local/lib/python3.5/site-packages/IPython/core/interactiveshell.py\", line 3044, in run_cell_async\n    interactivity=interactivity, compiler=compiler, result=result)\n  File \"/home/hthieu/.local/lib/python3.5/site-packages/IPython/core/interactiveshell.py\", line 3215, in run_ast_nodes\n    if (yield from self.run_code(code, result)):\n  File \"/home/hthieu/.local/lib/python3.5/site-packages/IPython/core/interactiveshell.py\", line 3291, in run_code\n    exec(code_obj, self.user_global_ns, self.user_ns)\n  File \"<ipython-input-14-919a946971db>\", line 3, in <module>\n    evaluator.do_evaluate_with_config(config, query_extention = False)\n  File \"/home/hthieu/AICityChallenge2019/triplet-reid/vehicle_reid/evaluate.py\", line 103, in do_evaluate_with_config\n    self.exe_query(query_extention)\n  File \"/home/hthieu/AICityChallenge2019/triplet-reid/vehicle_reid/evaluate.py\", line 163, in exe_query\n    batch_distances = loss.cdist(batch_embs, self.gallery_embs, metric=metric)\n  File \"/home/hthieu/AICityChallenge2019/triplet-reid/loss.py\", line 46, in cdist\n    diffs = all_diffs(a, b)\n  File \"/home/hthieu/AICityChallenge2019/triplet-reid/loss.py\", line 20, in all_diffs\n    return tf.expand_dims(a, axis=1) - tf.expand_dims(b, axis=0)\n  File \"/home/hthieu/.local/lib/python3.5/site-packages/tensorflow/python/ops/math_ops.py\", line 866, in binary_op_wrapper\n    return func(x, y, name=name)\n  File \"/home/hthieu/.local/lib/python3.5/site-packages/tensorflow/python/ops/gen_math_ops.py\", line 8318, in sub\n    \"Sub\", x=x, y=y, name=name)\n  File \"/home/hthieu/.local/lib/python3.5/site-packages/tensorflow/python/framework/op_def_library.py\", line 787, in _apply_op_helper\n    op_def=op_def)\n  File \"/home/hthieu/.local/lib/python3.5/site-packages/tensorflow/python/util/deprecation.py\", line 488, in new_func\n    return func(*args, **kwargs)\n  File \"/home/hthieu/.local/lib/python3.5/site-packages/tensorflow/python/framework/ops.py\", line 3274, in create_op\n    op_def=op_def)\n  File \"/home/hthieu/.local/lib/python3.5/site-packages/tensorflow/python/framework/ops.py\", line 1770, in __init__\n    self._traceback = tf_stack.extract_stack()\n\nResourceExhaustedError (see above for traceback): OOM when allocating tensor with shape[128,9155,128] and type float on /job:localhost/replica:0/task:0/device:GPU:0 by allocator GPU_0_bfc\n\t [[node cdist_3/sub (defined at /home/hthieu/AICityChallenge2019/triplet-reid/loss.py:20)  = Sub[T=DT_FLOAT, _device=\"/job:localhost/replica:0/task:0/device:GPU:0\"](cdist_3/ExpandDims, cdist_3/ExpandDims_1)]]\nHint: If you want to see a list of allocated tensors when OOM happens, add report_tensor_allocations_upon_oom to RunOptions for current allocation info.\n\n"
     ]
    }
   ],
   "source": [
    "evaluator = Evaluator(\"\", GPU_ID)\n",
    "config = BNMinhValidate()\n",
    "evaluator.do_evaluate_with_config(config, query_extention = False)"
   ]
  },
  {
   "cell_type": "code",
   "execution_count": null,
   "metadata": {},
   "outputs": [],
   "source": [
    "img = plt.imread('/home/hthieu/AICityChallenge2019/data/Track2Data/image_test/000290.jpg')\n",
    "img2= plt.imread('/home/hthieu/AICityChallenge2019/data/Track2Data/image_test/011478.jpg')\n",
    "img = cv2.resize(img, (256,128))\n",
    "img2= cv2.resize(img2,(128,128))\n",
    "img_croped = img[:,:128,:]\n",
    "img = cv2.resize(img, (128,128))\n",
    "plt.imshow(img_croped)\n",
    "plt.figure()\n",
    "plt.imshow(img2)\n",
    "plt.figure()\n",
    "\n",
    "img = img.astype(np.float32)\n",
    "img2= img2.astype(np.float32)\n",
    "img_croped = img_croped.astype(np.float32)"
   ]
  },
  {
   "cell_type": "code",
   "execution_count": null,
   "metadata": {},
   "outputs": [],
   "source": []
  },
  {
   "cell_type": "code",
   "execution_count": null,
   "metadata": {},
   "outputs": [],
   "source": [
    "images = [img, img_croped, img2]\n",
    "images = [np.expand_dims(img, 0) for img in images]\n",
    "images = np.concatenate(images, axis = 0)"
   ]
  },
  {
   "cell_type": "code",
   "execution_count": null,
   "metadata": {},
   "outputs": [],
   "source": [
    "embedder = Embedder(EXP_DIR, GPU_ID)\n",
    "embs = embedder.embed_images(tf.convert_to_tensor(images))"
   ]
  },
  {
   "cell_type": "code",
   "execution_count": null,
   "metadata": {},
   "outputs": [],
   "source": [
    "embs.shape"
   ]
  },
  {
   "cell_type": "code",
   "execution_count": null,
   "metadata": {},
   "outputs": [],
   "source": [
    "#img vs img 2\n",
    "print(np.linalg.norm(embs[0]-embs[2]))\n",
    "#img croped vs img 2\n",
    "print(np.linalg.norm(embs[1]-embs[2]))"
   ]
  }
 ],
 "metadata": {
  "kernelspec": {
   "display_name": "Python 3",
   "language": "python",
   "name": "python3"
  },
  "language_info": {
   "codemirror_mode": {
    "name": "ipython",
    "version": 3
   },
   "file_extension": ".py",
   "mimetype": "text/x-python",
   "name": "python",
   "nbconvert_exporter": "python",
   "pygments_lexer": "ipython3",
   "version": "3.5.2"
  }
 },
 "nbformat": 4,
 "nbformat_minor": 2
}
