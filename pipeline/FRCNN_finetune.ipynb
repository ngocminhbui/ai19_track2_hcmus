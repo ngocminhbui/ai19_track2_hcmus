{
 "cells": [
  {
   "cell_type": "code",
   "execution_count": 1,
   "metadata": {},
   "outputs": [],
   "source": [
    "%load_ext autoreload\n",
    "%autoreload 2\n",
    "%matplotlib inline\n",
    "import sys\n",
    "import os\n",
    "import os.path as osp\n",
    "import cv2\n",
    "from vehicle_reid.embedder import Embedder\n",
    "from vehicle_reid.evaluate import Evaluator\n",
    "from vehicle_reid import exp_config\n",
    "from vehicle_reid.common import *\n",
    "from sift_match.sift_match import *\n",
    "from matplotlib import pyplot as plt\n",
    "from classifier import classifier_common as clscom\n",
    "import tensorflow as tf\n",
    "import numpy as np\n",
    "import h5py\n",
    "import sklearn"
   ]
  },
  {
   "cell_type": "code",
   "execution_count": 2,
   "metadata": {},
   "outputs": [],
   "source": [
    "MODE = \"query\"\n",
    "VIEW = \"vehicle_view_prediction/040519_{}_view_0.96.csv\".format(MODE)\n",
    "CLS_TYPE = \"vehicle_type_prediction/030519_{}_type_0.92.csv\".format(MODE)\n",
    "FRCNN = \"frcnn_prediction/frcnn_{}.csv\".format(MODE)\n",
    "GT = \"GT/GT_vehi_type_{}.csv\".format(MODE)\n",
    "img_id, img_type_predict, img_type_score = clscom.read_csv_file(CLS_TYPE)"
   ]
  },
  {
   "cell_type": "code",
   "execution_count": 3,
   "metadata": {},
   "outputs": [],
   "source": [
    "img_view_score = []\n",
    "with open(VIEW) as fi:\n",
    "    csv_reader = csv.reader(fi, delimiter = ',')\n",
    "    for info in csv_reader:\n",
    "        img_view_score.append(info[1].split(' '))\n",
    "img_view_score = np.array(img_view_score).astype(np.float32)\n",
    "\n",
    "frcnn_img_type_predict = []\n",
    "frcnn_img_type_score = []\n",
    "frcnn_mapper = {\n",
    "    'car' : 0,\n",
    "    'truck': 3,\n",
    "    'bus': 2,\n",
    "    '-1': -1\n",
    "}\n",
    "with open(FRCNN) as fi:\n",
    "    csv_reader = csv.reader(fi,delimiter = ',')\n",
    "    for info in csv_reader:\n",
    "        frcnn_img_type_predict.append(frcnn_mapper[info[1]])\n",
    "        frcnn_img_type_score.append(float(info[2]))\n",
    "img_gt = []\n",
    "with open(GT) as fi:\n",
    "    for info in fi:\n",
    "        img_gt.append(int(info.strip()))\n",
    "img_gt = np.array(img_gt)\n",
    "frcnn_img_type_score = np.array(frcnn_img_type_score)\n",
    "frcnn_img_type_predict = np.array(frcnn_img_type_predict)"
   ]
  },
  {
   "cell_type": "code",
   "execution_count": 4,
   "metadata": {},
   "outputs": [],
   "source": [
    "is_pick_up = img_gt == 1\n",
    "is_truck = img_gt == 3\n",
    "is_truck_or_pick_up = np.logical_or(is_pick_up, is_truck)"
   ]
  },
  {
   "cell_type": "code",
   "execution_count": 110,
   "metadata": {},
   "outputs": [
    {
     "data": {
      "text/plain": [
       "array([ True,  True,  True, ...,  True,  True,  True])"
      ]
     },
     "execution_count": 110,
     "metadata": {},
     "output_type": "execute_result"
    }
   ],
   "source": [
    "frcnn_img_type_score > 0.4"
   ]
  },
  {
   "cell_type": "code",
   "execution_count": 39,
   "metadata": {},
   "outputs": [
    {
     "name": "stdout",
     "output_type": "stream",
     "text": [
      "PREDICT-COUNT  131\n",
      "CORRECT 68/152\n",
      "IN-CORRECT  63\n"
     ]
    }
   ],
   "source": [
    "#Bounding box with label \"truck\" and conf > thresh\n",
    "conclusion_truck_or_pickup = np.logical_and(frcnn_img_type_predict == 3, frcnn_img_type_score > 0.0)\n",
    "#View conf\n",
    "_view_conf = np.logical_and(img_view_score[:,2] > 0.9, img_view_score[:,1] > 0.0) #view2: side, view 1: rear\n",
    "conclusion_truck_or_pickup = np.logical_and(conclusion_truck_or_pickup, _view_conf)\n",
    "print(\"PREDICT-COUNT \", np.sum(conclusion_truck_or_pickup))\n",
    "_correct = np.logical_and(conclusion_truck_or_pickup, is_truck_or_pick_up)\n",
    "_incorrect = np.logical_xor(conclusion_truck_or_pickup, is_truck_or_pick_up)\n",
    "print(\"CORRECT {}/{}\".format(np.sum(_correct), np.sum(is_truck_or_pick_up)))\n",
    "print(\"IN-CORRECT \",np.sum(conclusion_truck_or_pickup) - np.sum(_correct))"
   ]
  },
  {
   "cell_type": "code",
   "execution_count": 41,
   "metadata": {},
   "outputs": [
    {
     "data": {
      "text/plain": [
       "False"
      ]
     },
     "execution_count": 41,
     "metadata": {},
     "output_type": "execute_result"
    }
   ],
   "source": [
    "_view_conf[0]"
   ]
  },
  {
   "cell_type": "code",
   "execution_count": 47,
   "metadata": {},
   "outputs": [],
   "source": [
    "with open(\"frcnn_total.csv\", \"w\") as fo:\n",
    "    for i in range(len(img_id)):\n",
    "        fo.write(\"{},{},{},{},{},{},{}\\n\".format(\n",
    "            img_id[i], \n",
    "            img_gt[i],\n",
    "            frcnn_img_type_predict[i],\n",
    "            frcnn_img_type_score[i],\n",
    "            img_view_score[i][1],\n",
    "            img_view_score[i][2],\n",
    "            img_view_score[i][0]\n",
    "        ))"
   ]
  }
 ],
 "metadata": {
  "kernelspec": {
   "display_name": "Python 3",
   "language": "python",
   "name": "python3"
  },
  "language_info": {
   "codemirror_mode": {
    "name": "ipython",
    "version": 3
   },
   "file_extension": ".py",
   "mimetype": "text/x-python",
   "name": "python",
   "nbconvert_exporter": "python",
   "pygments_lexer": "ipython3",
   "version": "3.5.2"
  }
 },
 "nbformat": 4,
 "nbformat_minor": 2
}
